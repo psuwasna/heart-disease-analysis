{
  "nbformat": 4,
  "nbformat_minor": 0,
  "metadata": {
    "colab": {
      "provenance": []
    },
    "kernelspec": {
      "name": "python3",
      "display_name": "Python 3"
    },
    "language_info": {
      "name": "python"
    }
  },
  "cells": [
    {
      "cell_type": "markdown",
      "source": [
        "Install pyspark"
      ],
      "metadata": {
        "id": "63yJ7sM3u1Vy"
      }
    },
    {
      "cell_type": "code",
      "execution_count": 4,
      "metadata": {
        "colab": {
          "base_uri": "https://localhost:8080/"
        },
        "id": "tHX5qzL1I0MO",
        "outputId": "af934809-305d-4e28-c355-679f23bbba2a"
      },
      "outputs": [
        {
          "output_type": "stream",
          "name": "stdout",
          "text": [
            "Collecting pyspark\n",
            "  Downloading pyspark-3.5.1.tar.gz (317.0 MB)\n",
            "\u001b[2K     \u001b[90m━━━━━━━━━━━━━━━━━━━━━━━━━━━━━━━━━━━━━━━━\u001b[0m \u001b[32m317.0/317.0 MB\u001b[0m \u001b[31m3.6 MB/s\u001b[0m eta \u001b[36m0:00:00\u001b[0m\n",
            "\u001b[?25h  Preparing metadata (setup.py) ... \u001b[?25l\u001b[?25hdone\n",
            "Requirement already satisfied: py4j==0.10.9.7 in /usr/local/lib/python3.10/dist-packages (from pyspark) (0.10.9.7)\n",
            "Building wheels for collected packages: pyspark\n",
            "  Building wheel for pyspark (setup.py) ... \u001b[?25l\u001b[?25hdone\n",
            "  Created wheel for pyspark: filename=pyspark-3.5.1-py2.py3-none-any.whl size=317488491 sha256=18e27152c63d52add78644d8d45ad34fbfc71d82191339ea6258d1973b5feae7\n",
            "  Stored in directory: /root/.cache/pip/wheels/80/1d/60/2c256ed38dddce2fdd93be545214a63e02fbd8d74fb0b7f3a6\n",
            "Successfully built pyspark\n",
            "Installing collected packages: pyspark\n",
            "Successfully installed pyspark-3.5.1\n"
          ]
        }
      ],
      "source": [
        "pip install pyspark\n"
      ]
    },
    {
      "cell_type": "markdown",
      "source": [
        "Import Pyspark SQL and other libraries\n",
        "\n"
      ],
      "metadata": {
        "id": "ISx6z3rHKIfl"
      }
    },
    {
      "cell_type": "code",
      "source": [
        "from pyspark.sql import SparkSession\n",
        "from pyspark.sql.types import StringType, IntegerType\n",
        "import pandas as pd\n",
        "import seaborn as sns\n",
        "import matplotlib.pyplot as plt\n",
        "from pyspark.ml.feature import OneHotEncoder, StringIndexer, VectorAssembler\n",
        "from pyspark.ml import Pipeline\n",
        "from pyspark.ml.classification import RandomForestClassifier\n",
        "from pyspark.ml.evaluation import MulticlassClassificationEvaluator\n",
        "from pyspark.ml.evaluation import BinaryClassificationEvaluator\n"
      ],
      "metadata": {
        "id": "rTo56_CjKL1Y"
      },
      "execution_count": 5,
      "outputs": []
    },
    {
      "cell_type": "markdown",
      "source": [
        "Configure SparkSession and sparkContex"
      ],
      "metadata": {
        "id": "yi9dEAKZvA8v"
      }
    },
    {
      "cell_type": "code",
      "source": [
        "spark = SparkSession.builder\\\n",
        "    .master(\"local[*]\")\\\n",
        "    .appName(\"ML Heart Attack Pred\")\\\n",
        "    .getOrCreate()\n",
        "sc = spark.sparkContext\n"
      ],
      "metadata": {
        "id": "eY2zmxlaLXD8"
      },
      "execution_count": 6,
      "outputs": []
    },
    {
      "cell_type": "markdown",
      "source": [
        "Import heart_attack dataset using read.csv function"
      ],
      "metadata": {
        "id": "7fjvFPLoLf9X"
      }
    },
    {
      "cell_type": "code",
      "source": [
        "df = spark.read.csv('/content/heart_attack1.csv', header = True, inferSchema = True)\n",
        "df.printSchema()\n"
      ],
      "metadata": {
        "colab": {
          "base_uri": "https://localhost:8080/"
        },
        "id": "lXV3z5ezLu3Q",
        "outputId": "f0287c25-ceff-4ef8-9def-f5fb34322260"
      },
      "execution_count": 7,
      "outputs": [
        {
          "output_type": "stream",
          "name": "stdout",
          "text": [
            "root\n",
            " |-- State: string (nullable = true)\n",
            " |-- Sex: string (nullable = true)\n",
            " |-- GeneralHealth: string (nullable = true)\n",
            " |-- PhysicalHealthDays: integer (nullable = true)\n",
            " |-- MentalHealthDays: integer (nullable = true)\n",
            " |-- LastCheckupTime: string (nullable = true)\n",
            " |-- PhysicalActivities: string (nullable = true)\n",
            " |-- SleepHours: integer (nullable = true)\n",
            " |-- RemovedTeeth: string (nullable = true)\n",
            " |-- HadHeartAttack: string (nullable = true)\n",
            " |-- HadAngina: string (nullable = true)\n",
            " |-- HadStroke: string (nullable = true)\n",
            " |-- HadAsthma: string (nullable = true)\n",
            " |-- HadSkinCancer: string (nullable = true)\n",
            " |-- HadCOPD: string (nullable = true)\n",
            " |-- HadDepressiveDisorder: string (nullable = true)\n",
            " |-- HadKidneyDisease: string (nullable = true)\n",
            " |-- HadArthritis: string (nullable = true)\n",
            " |-- HadDiabetes: string (nullable = true)\n",
            " |-- DeafOrHardOfHearing: string (nullable = true)\n",
            " |-- BlindOrVisionDifficulty: string (nullable = true)\n",
            " |-- DifficultyConcentrating: string (nullable = true)\n",
            " |-- DifficultyWalking: string (nullable = true)\n",
            " |-- DifficultyDressingBathing: string (nullable = true)\n",
            " |-- DifficultyErrands: string (nullable = true)\n",
            " |-- SmokerStatus: string (nullable = true)\n",
            " |-- ECigaretteUsage: string (nullable = true)\n",
            " |-- ChestScan: string (nullable = true)\n",
            " |-- RaceEthnicityCategory: string (nullable = true)\n",
            " |-- AgeCategory: string (nullable = true)\n",
            " |-- HeightInMeters: double (nullable = true)\n",
            " |-- WeightInKilograms: double (nullable = true)\n",
            " |-- BMI: double (nullable = true)\n",
            " |-- AlcoholDrinkers: string (nullable = true)\n",
            " |-- HIVTesting: string (nullable = true)\n",
            " |-- FluVaxLast12: string (nullable = true)\n",
            " |-- PneumoVaxEver: string (nullable = true)\n",
            " |-- TetanusLast10Tdap: string (nullable = true)\n",
            " |-- HighRiskLastYear: string (nullable = true)\n",
            " |-- CovidPos: string (nullable = true)\n",
            "\n"
          ]
        }
      ]
    },
    {
      "cell_type": "markdown",
      "source": [
        "Explore the data set"
      ],
      "metadata": {
        "id": "LPwxICHWybXa"
      }
    },
    {
      "cell_type": "code",
      "source": [
        "\n",
        "pd.DataFrame(df.take(5), columns = df.columns)\n"
      ],
      "metadata": {
        "colab": {
          "base_uri": "https://localhost:8080/",
          "height": 290
        },
        "id": "8ve0yikGybHO",
        "outputId": "e3c20f55-1ad9-4627-fad1-c2fcb5c2c160"
      },
      "execution_count": 8,
      "outputs": [
        {
          "output_type": "execute_result",
          "data": {
            "text/plain": [
              "        State     Sex GeneralHealth  PhysicalHealthDays  MentalHealthDays  \\\n",
              "0        Ohio  Female          Fair                   4                 0   \n",
              "1   Minnesota  Female          Good                  15                30   \n",
              "2   Minnesota  Female     Very good                   0                 1   \n",
              "3  New Jersey    Male          Good                   0                 0   \n",
              "4       Texas    Male     Excellent                   1                 0   \n",
              "\n",
              "       LastCheckupTime PhysicalActivities  SleepHours  RemovedTeeth  \\\n",
              "0     Within past year                Yes           7          Some   \n",
              "1     Within past year                 No           6          Some   \n",
              "2  Within past 2 years                Yes           8  None of them   \n",
              "3     Within past year                 No           7  None of them   \n",
              "4     Within past year                Yes           7  None of them   \n",
              "\n",
              "  HadHeartAttack  ... HeightInMeters WeightInKilograms        BMI  \\\n",
              "0             No  ...           1.70             77.11  26.630000   \n",
              "1             No  ...           1.65             82.55  30.321396   \n",
              "2             No  ...           1.68             90.72  32.280000   \n",
              "3             No  ...           1.75             95.25  31.010000   \n",
              "4             No  ...           1.75             70.31  22.890000   \n",
              "\n",
              "  AlcoholDrinkers HIVTesting FluVaxLast12 PneumoVaxEver  \\\n",
              "0              No         No          Yes           Yes   \n",
              "1             Yes        Yes          Yes            No   \n",
              "2             Yes         No          Yes           Yes   \n",
              "3              No         No          Yes           Yes   \n",
              "4              No         No           No           Yes   \n",
              "\n",
              "             TetanusLast10Tdap HighRiskLastYear CovidPos  \n",
              "0                           No               No       No  \n",
              "1           Yes, received Tdap               No       No  \n",
              "2           Yes, received Tdap               No       No  \n",
              "3  Yes, but not sure what type               No       No  \n",
              "4           Yes, received Tdap               No       No  \n",
              "\n",
              "[5 rows x 40 columns]"
            ],
            "text/html": [
              "\n",
              "  <div id=\"df-015d239a-2ebb-49e7-a85e-c6a3335d0e53\" class=\"colab-df-container\">\n",
              "    <div>\n",
              "<style scoped>\n",
              "    .dataframe tbody tr th:only-of-type {\n",
              "        vertical-align: middle;\n",
              "    }\n",
              "\n",
              "    .dataframe tbody tr th {\n",
              "        vertical-align: top;\n",
              "    }\n",
              "\n",
              "    .dataframe thead th {\n",
              "        text-align: right;\n",
              "    }\n",
              "</style>\n",
              "<table border=\"1\" class=\"dataframe\">\n",
              "  <thead>\n",
              "    <tr style=\"text-align: right;\">\n",
              "      <th></th>\n",
              "      <th>State</th>\n",
              "      <th>Sex</th>\n",
              "      <th>GeneralHealth</th>\n",
              "      <th>PhysicalHealthDays</th>\n",
              "      <th>MentalHealthDays</th>\n",
              "      <th>LastCheckupTime</th>\n",
              "      <th>PhysicalActivities</th>\n",
              "      <th>SleepHours</th>\n",
              "      <th>RemovedTeeth</th>\n",
              "      <th>HadHeartAttack</th>\n",
              "      <th>...</th>\n",
              "      <th>HeightInMeters</th>\n",
              "      <th>WeightInKilograms</th>\n",
              "      <th>BMI</th>\n",
              "      <th>AlcoholDrinkers</th>\n",
              "      <th>HIVTesting</th>\n",
              "      <th>FluVaxLast12</th>\n",
              "      <th>PneumoVaxEver</th>\n",
              "      <th>TetanusLast10Tdap</th>\n",
              "      <th>HighRiskLastYear</th>\n",
              "      <th>CovidPos</th>\n",
              "    </tr>\n",
              "  </thead>\n",
              "  <tbody>\n",
              "    <tr>\n",
              "      <th>0</th>\n",
              "      <td>Ohio</td>\n",
              "      <td>Female</td>\n",
              "      <td>Fair</td>\n",
              "      <td>4</td>\n",
              "      <td>0</td>\n",
              "      <td>Within past year</td>\n",
              "      <td>Yes</td>\n",
              "      <td>7</td>\n",
              "      <td>Some</td>\n",
              "      <td>No</td>\n",
              "      <td>...</td>\n",
              "      <td>1.70</td>\n",
              "      <td>77.11</td>\n",
              "      <td>26.630000</td>\n",
              "      <td>No</td>\n",
              "      <td>No</td>\n",
              "      <td>Yes</td>\n",
              "      <td>Yes</td>\n",
              "      <td>No</td>\n",
              "      <td>No</td>\n",
              "      <td>No</td>\n",
              "    </tr>\n",
              "    <tr>\n",
              "      <th>1</th>\n",
              "      <td>Minnesota</td>\n",
              "      <td>Female</td>\n",
              "      <td>Good</td>\n",
              "      <td>15</td>\n",
              "      <td>30</td>\n",
              "      <td>Within past year</td>\n",
              "      <td>No</td>\n",
              "      <td>6</td>\n",
              "      <td>Some</td>\n",
              "      <td>No</td>\n",
              "      <td>...</td>\n",
              "      <td>1.65</td>\n",
              "      <td>82.55</td>\n",
              "      <td>30.321396</td>\n",
              "      <td>Yes</td>\n",
              "      <td>Yes</td>\n",
              "      <td>Yes</td>\n",
              "      <td>No</td>\n",
              "      <td>Yes, received Tdap</td>\n",
              "      <td>No</td>\n",
              "      <td>No</td>\n",
              "    </tr>\n",
              "    <tr>\n",
              "      <th>2</th>\n",
              "      <td>Minnesota</td>\n",
              "      <td>Female</td>\n",
              "      <td>Very good</td>\n",
              "      <td>0</td>\n",
              "      <td>1</td>\n",
              "      <td>Within past 2 years</td>\n",
              "      <td>Yes</td>\n",
              "      <td>8</td>\n",
              "      <td>None of them</td>\n",
              "      <td>No</td>\n",
              "      <td>...</td>\n",
              "      <td>1.68</td>\n",
              "      <td>90.72</td>\n",
              "      <td>32.280000</td>\n",
              "      <td>Yes</td>\n",
              "      <td>No</td>\n",
              "      <td>Yes</td>\n",
              "      <td>Yes</td>\n",
              "      <td>Yes, received Tdap</td>\n",
              "      <td>No</td>\n",
              "      <td>No</td>\n",
              "    </tr>\n",
              "    <tr>\n",
              "      <th>3</th>\n",
              "      <td>New Jersey</td>\n",
              "      <td>Male</td>\n",
              "      <td>Good</td>\n",
              "      <td>0</td>\n",
              "      <td>0</td>\n",
              "      <td>Within past year</td>\n",
              "      <td>No</td>\n",
              "      <td>7</td>\n",
              "      <td>None of them</td>\n",
              "      <td>No</td>\n",
              "      <td>...</td>\n",
              "      <td>1.75</td>\n",
              "      <td>95.25</td>\n",
              "      <td>31.010000</td>\n",
              "      <td>No</td>\n",
              "      <td>No</td>\n",
              "      <td>Yes</td>\n",
              "      <td>Yes</td>\n",
              "      <td>Yes, but not sure what type</td>\n",
              "      <td>No</td>\n",
              "      <td>No</td>\n",
              "    </tr>\n",
              "    <tr>\n",
              "      <th>4</th>\n",
              "      <td>Texas</td>\n",
              "      <td>Male</td>\n",
              "      <td>Excellent</td>\n",
              "      <td>1</td>\n",
              "      <td>0</td>\n",
              "      <td>Within past year</td>\n",
              "      <td>Yes</td>\n",
              "      <td>7</td>\n",
              "      <td>None of them</td>\n",
              "      <td>No</td>\n",
              "      <td>...</td>\n",
              "      <td>1.75</td>\n",
              "      <td>70.31</td>\n",
              "      <td>22.890000</td>\n",
              "      <td>No</td>\n",
              "      <td>No</td>\n",
              "      <td>No</td>\n",
              "      <td>Yes</td>\n",
              "      <td>Yes, received Tdap</td>\n",
              "      <td>No</td>\n",
              "      <td>No</td>\n",
              "    </tr>\n",
              "  </tbody>\n",
              "</table>\n",
              "<p>5 rows × 40 columns</p>\n",
              "</div>\n",
              "    <div class=\"colab-df-buttons\">\n",
              "\n",
              "  <div class=\"colab-df-container\">\n",
              "    <button class=\"colab-df-convert\" onclick=\"convertToInteractive('df-015d239a-2ebb-49e7-a85e-c6a3335d0e53')\"\n",
              "            title=\"Convert this dataframe to an interactive table.\"\n",
              "            style=\"display:none;\">\n",
              "\n",
              "  <svg xmlns=\"http://www.w3.org/2000/svg\" height=\"24px\" viewBox=\"0 -960 960 960\">\n",
              "    <path d=\"M120-120v-720h720v720H120Zm60-500h600v-160H180v160Zm220 220h160v-160H400v160Zm0 220h160v-160H400v160ZM180-400h160v-160H180v160Zm440 0h160v-160H620v160ZM180-180h160v-160H180v160Zm440 0h160v-160H620v160Z\"/>\n",
              "  </svg>\n",
              "    </button>\n",
              "\n",
              "  <style>\n",
              "    .colab-df-container {\n",
              "      display:flex;\n",
              "      gap: 12px;\n",
              "    }\n",
              "\n",
              "    .colab-df-convert {\n",
              "      background-color: #E8F0FE;\n",
              "      border: none;\n",
              "      border-radius: 50%;\n",
              "      cursor: pointer;\n",
              "      display: none;\n",
              "      fill: #1967D2;\n",
              "      height: 32px;\n",
              "      padding: 0 0 0 0;\n",
              "      width: 32px;\n",
              "    }\n",
              "\n",
              "    .colab-df-convert:hover {\n",
              "      background-color: #E2EBFA;\n",
              "      box-shadow: 0px 1px 2px rgba(60, 64, 67, 0.3), 0px 1px 3px 1px rgba(60, 64, 67, 0.15);\n",
              "      fill: #174EA6;\n",
              "    }\n",
              "\n",
              "    .colab-df-buttons div {\n",
              "      margin-bottom: 4px;\n",
              "    }\n",
              "\n",
              "    [theme=dark] .colab-df-convert {\n",
              "      background-color: #3B4455;\n",
              "      fill: #D2E3FC;\n",
              "    }\n",
              "\n",
              "    [theme=dark] .colab-df-convert:hover {\n",
              "      background-color: #434B5C;\n",
              "      box-shadow: 0px 1px 3px 1px rgba(0, 0, 0, 0.15);\n",
              "      filter: drop-shadow(0px 1px 2px rgba(0, 0, 0, 0.3));\n",
              "      fill: #FFFFFF;\n",
              "    }\n",
              "  </style>\n",
              "\n",
              "    <script>\n",
              "      const buttonEl =\n",
              "        document.querySelector('#df-015d239a-2ebb-49e7-a85e-c6a3335d0e53 button.colab-df-convert');\n",
              "      buttonEl.style.display =\n",
              "        google.colab.kernel.accessAllowed ? 'block' : 'none';\n",
              "\n",
              "      async function convertToInteractive(key) {\n",
              "        const element = document.querySelector('#df-015d239a-2ebb-49e7-a85e-c6a3335d0e53');\n",
              "        const dataTable =\n",
              "          await google.colab.kernel.invokeFunction('convertToInteractive',\n",
              "                                                    [key], {});\n",
              "        if (!dataTable) return;\n",
              "\n",
              "        const docLinkHtml = 'Like what you see? Visit the ' +\n",
              "          '<a target=\"_blank\" href=https://colab.research.google.com/notebooks/data_table.ipynb>data table notebook</a>'\n",
              "          + ' to learn more about interactive tables.';\n",
              "        element.innerHTML = '';\n",
              "        dataTable['output_type'] = 'display_data';\n",
              "        await google.colab.output.renderOutput(dataTable, element);\n",
              "        const docLink = document.createElement('div');\n",
              "        docLink.innerHTML = docLinkHtml;\n",
              "        element.appendChild(docLink);\n",
              "      }\n",
              "    </script>\n",
              "  </div>\n",
              "\n",
              "\n",
              "<div id=\"df-b0f291f6-dd2a-4f77-b0b1-fb043b59f01b\">\n",
              "  <button class=\"colab-df-quickchart\" onclick=\"quickchart('df-b0f291f6-dd2a-4f77-b0b1-fb043b59f01b')\"\n",
              "            title=\"Suggest charts\"\n",
              "            style=\"display:none;\">\n",
              "\n",
              "<svg xmlns=\"http://www.w3.org/2000/svg\" height=\"24px\"viewBox=\"0 0 24 24\"\n",
              "     width=\"24px\">\n",
              "    <g>\n",
              "        <path d=\"M19 3H5c-1.1 0-2 .9-2 2v14c0 1.1.9 2 2 2h14c1.1 0 2-.9 2-2V5c0-1.1-.9-2-2-2zM9 17H7v-7h2v7zm4 0h-2V7h2v10zm4 0h-2v-4h2v4z\"/>\n",
              "    </g>\n",
              "</svg>\n",
              "  </button>\n",
              "\n",
              "<style>\n",
              "  .colab-df-quickchart {\n",
              "      --bg-color: #E8F0FE;\n",
              "      --fill-color: #1967D2;\n",
              "      --hover-bg-color: #E2EBFA;\n",
              "      --hover-fill-color: #174EA6;\n",
              "      --disabled-fill-color: #AAA;\n",
              "      --disabled-bg-color: #DDD;\n",
              "  }\n",
              "\n",
              "  [theme=dark] .colab-df-quickchart {\n",
              "      --bg-color: #3B4455;\n",
              "      --fill-color: #D2E3FC;\n",
              "      --hover-bg-color: #434B5C;\n",
              "      --hover-fill-color: #FFFFFF;\n",
              "      --disabled-bg-color: #3B4455;\n",
              "      --disabled-fill-color: #666;\n",
              "  }\n",
              "\n",
              "  .colab-df-quickchart {\n",
              "    background-color: var(--bg-color);\n",
              "    border: none;\n",
              "    border-radius: 50%;\n",
              "    cursor: pointer;\n",
              "    display: none;\n",
              "    fill: var(--fill-color);\n",
              "    height: 32px;\n",
              "    padding: 0;\n",
              "    width: 32px;\n",
              "  }\n",
              "\n",
              "  .colab-df-quickchart:hover {\n",
              "    background-color: var(--hover-bg-color);\n",
              "    box-shadow: 0 1px 2px rgba(60, 64, 67, 0.3), 0 1px 3px 1px rgba(60, 64, 67, 0.15);\n",
              "    fill: var(--button-hover-fill-color);\n",
              "  }\n",
              "\n",
              "  .colab-df-quickchart-complete:disabled,\n",
              "  .colab-df-quickchart-complete:disabled:hover {\n",
              "    background-color: var(--disabled-bg-color);\n",
              "    fill: var(--disabled-fill-color);\n",
              "    box-shadow: none;\n",
              "  }\n",
              "\n",
              "  .colab-df-spinner {\n",
              "    border: 2px solid var(--fill-color);\n",
              "    border-color: transparent;\n",
              "    border-bottom-color: var(--fill-color);\n",
              "    animation:\n",
              "      spin 1s steps(1) infinite;\n",
              "  }\n",
              "\n",
              "  @keyframes spin {\n",
              "    0% {\n",
              "      border-color: transparent;\n",
              "      border-bottom-color: var(--fill-color);\n",
              "      border-left-color: var(--fill-color);\n",
              "    }\n",
              "    20% {\n",
              "      border-color: transparent;\n",
              "      border-left-color: var(--fill-color);\n",
              "      border-top-color: var(--fill-color);\n",
              "    }\n",
              "    30% {\n",
              "      border-color: transparent;\n",
              "      border-left-color: var(--fill-color);\n",
              "      border-top-color: var(--fill-color);\n",
              "      border-right-color: var(--fill-color);\n",
              "    }\n",
              "    40% {\n",
              "      border-color: transparent;\n",
              "      border-right-color: var(--fill-color);\n",
              "      border-top-color: var(--fill-color);\n",
              "    }\n",
              "    60% {\n",
              "      border-color: transparent;\n",
              "      border-right-color: var(--fill-color);\n",
              "    }\n",
              "    80% {\n",
              "      border-color: transparent;\n",
              "      border-right-color: var(--fill-color);\n",
              "      border-bottom-color: var(--fill-color);\n",
              "    }\n",
              "    90% {\n",
              "      border-color: transparent;\n",
              "      border-bottom-color: var(--fill-color);\n",
              "    }\n",
              "  }\n",
              "</style>\n",
              "\n",
              "  <script>\n",
              "    async function quickchart(key) {\n",
              "      const quickchartButtonEl =\n",
              "        document.querySelector('#' + key + ' button');\n",
              "      quickchartButtonEl.disabled = true;  // To prevent multiple clicks.\n",
              "      quickchartButtonEl.classList.add('colab-df-spinner');\n",
              "      try {\n",
              "        const charts = await google.colab.kernel.invokeFunction(\n",
              "            'suggestCharts', [key], {});\n",
              "      } catch (error) {\n",
              "        console.error('Error during call to suggestCharts:', error);\n",
              "      }\n",
              "      quickchartButtonEl.classList.remove('colab-df-spinner');\n",
              "      quickchartButtonEl.classList.add('colab-df-quickchart-complete');\n",
              "    }\n",
              "    (() => {\n",
              "      let quickchartButtonEl =\n",
              "        document.querySelector('#df-b0f291f6-dd2a-4f77-b0b1-fb043b59f01b button');\n",
              "      quickchartButtonEl.style.display =\n",
              "        google.colab.kernel.accessAllowed ? 'block' : 'none';\n",
              "    })();\n",
              "  </script>\n",
              "</div>\n",
              "    </div>\n",
              "  </div>\n"
            ],
            "application/vnd.google.colaboratory.intrinsic+json": {
              "type": "dataframe"
            }
          },
          "metadata": {},
          "execution_count": 8
        }
      ]
    },
    {
      "cell_type": "markdown",
      "source": [
        "Convert Column Type to string"
      ],
      "metadata": {
        "id": "YUeGN13b0MYi"
      }
    },
    {
      "cell_type": "markdown",
      "source": [
        "Drop state column to reduce noise"
      ],
      "metadata": {
        "id": "o4nTjgQTIQV-"
      }
    },
    {
      "cell_type": "code",
      "source": [
        "#drop HeightInMeters and WeightInKilograms\n",
        "df = df.drop(\"State\")"
      ],
      "metadata": {
        "id": "6zHUQ9xjIQj-"
      },
      "execution_count": 9,
      "outputs": []
    },
    {
      "cell_type": "markdown",
      "source": [
        "Derive numerical variables"
      ],
      "metadata": {
        "id": "3b4kSea52Dxb"
      }
    },
    {
      "cell_type": "code",
      "source": [
        "numeric_cols = [t[0] for t in df.dtypes if (t[1] == 'int') | (t[1] == 'double')]"
      ],
      "metadata": {
        "id": "ZXyi9yMgrLBu"
      },
      "execution_count": 10,
      "outputs": []
    },
    {
      "cell_type": "code",
      "source": [
        "df.select(numeric_cols).describe().toPandas()\n"
      ],
      "metadata": {
        "colab": {
          "base_uri": "https://localhost:8080/",
          "height": 206
        },
        "id": "5leW048NrO8m",
        "outputId": "0c73e540-3f30-4e7e-f30f-f9697cb9995a"
      },
      "execution_count": 11,
      "outputs": [
        {
          "output_type": "execute_result",
          "data": {
            "text/plain": [
              "  summary PhysicalHealthDays   MentalHealthDays          SleepHours  \\\n",
              "0   count              40000              40000               40000   \n",
              "1    mean            3.84445             3.9705              7.0078   \n",
              "2  stddev  8.156780463159977  7.947783271546439  1.2428104338330783   \n",
              "3     min                  0                  0                   3   \n",
              "4     max                 30                 30                  11   \n",
              "\n",
              "        HeightInMeters  WeightInKilograms                 BMI  \n",
              "0                40000              40000               40000  \n",
              "1   1.7030132499999917   80.8777907500013  27.818363632617373  \n",
              "2  0.10325061424355336  17.76090359889184   5.318102610734452  \n",
              "3                 1.42              28.12         9.208993998  \n",
              "4                 1.98             135.62         57.91637812  "
            ],
            "text/html": [
              "\n",
              "  <div id=\"df-7c9b5df5-8c37-4ef6-bbf5-c335974d228d\" class=\"colab-df-container\">\n",
              "    <div>\n",
              "<style scoped>\n",
              "    .dataframe tbody tr th:only-of-type {\n",
              "        vertical-align: middle;\n",
              "    }\n",
              "\n",
              "    .dataframe tbody tr th {\n",
              "        vertical-align: top;\n",
              "    }\n",
              "\n",
              "    .dataframe thead th {\n",
              "        text-align: right;\n",
              "    }\n",
              "</style>\n",
              "<table border=\"1\" class=\"dataframe\">\n",
              "  <thead>\n",
              "    <tr style=\"text-align: right;\">\n",
              "      <th></th>\n",
              "      <th>summary</th>\n",
              "      <th>PhysicalHealthDays</th>\n",
              "      <th>MentalHealthDays</th>\n",
              "      <th>SleepHours</th>\n",
              "      <th>HeightInMeters</th>\n",
              "      <th>WeightInKilograms</th>\n",
              "      <th>BMI</th>\n",
              "    </tr>\n",
              "  </thead>\n",
              "  <tbody>\n",
              "    <tr>\n",
              "      <th>0</th>\n",
              "      <td>count</td>\n",
              "      <td>40000</td>\n",
              "      <td>40000</td>\n",
              "      <td>40000</td>\n",
              "      <td>40000</td>\n",
              "      <td>40000</td>\n",
              "      <td>40000</td>\n",
              "    </tr>\n",
              "    <tr>\n",
              "      <th>1</th>\n",
              "      <td>mean</td>\n",
              "      <td>3.84445</td>\n",
              "      <td>3.9705</td>\n",
              "      <td>7.0078</td>\n",
              "      <td>1.7030132499999917</td>\n",
              "      <td>80.8777907500013</td>\n",
              "      <td>27.818363632617373</td>\n",
              "    </tr>\n",
              "    <tr>\n",
              "      <th>2</th>\n",
              "      <td>stddev</td>\n",
              "      <td>8.156780463159977</td>\n",
              "      <td>7.947783271546439</td>\n",
              "      <td>1.2428104338330783</td>\n",
              "      <td>0.10325061424355336</td>\n",
              "      <td>17.76090359889184</td>\n",
              "      <td>5.318102610734452</td>\n",
              "    </tr>\n",
              "    <tr>\n",
              "      <th>3</th>\n",
              "      <td>min</td>\n",
              "      <td>0</td>\n",
              "      <td>0</td>\n",
              "      <td>3</td>\n",
              "      <td>1.42</td>\n",
              "      <td>28.12</td>\n",
              "      <td>9.208993998</td>\n",
              "    </tr>\n",
              "    <tr>\n",
              "      <th>4</th>\n",
              "      <td>max</td>\n",
              "      <td>30</td>\n",
              "      <td>30</td>\n",
              "      <td>11</td>\n",
              "      <td>1.98</td>\n",
              "      <td>135.62</td>\n",
              "      <td>57.91637812</td>\n",
              "    </tr>\n",
              "  </tbody>\n",
              "</table>\n",
              "</div>\n",
              "    <div class=\"colab-df-buttons\">\n",
              "\n",
              "  <div class=\"colab-df-container\">\n",
              "    <button class=\"colab-df-convert\" onclick=\"convertToInteractive('df-7c9b5df5-8c37-4ef6-bbf5-c335974d228d')\"\n",
              "            title=\"Convert this dataframe to an interactive table.\"\n",
              "            style=\"display:none;\">\n",
              "\n",
              "  <svg xmlns=\"http://www.w3.org/2000/svg\" height=\"24px\" viewBox=\"0 -960 960 960\">\n",
              "    <path d=\"M120-120v-720h720v720H120Zm60-500h600v-160H180v160Zm220 220h160v-160H400v160Zm0 220h160v-160H400v160ZM180-400h160v-160H180v160Zm440 0h160v-160H620v160ZM180-180h160v-160H180v160Zm440 0h160v-160H620v160Z\"/>\n",
              "  </svg>\n",
              "    </button>\n",
              "\n",
              "  <style>\n",
              "    .colab-df-container {\n",
              "      display:flex;\n",
              "      gap: 12px;\n",
              "    }\n",
              "\n",
              "    .colab-df-convert {\n",
              "      background-color: #E8F0FE;\n",
              "      border: none;\n",
              "      border-radius: 50%;\n",
              "      cursor: pointer;\n",
              "      display: none;\n",
              "      fill: #1967D2;\n",
              "      height: 32px;\n",
              "      padding: 0 0 0 0;\n",
              "      width: 32px;\n",
              "    }\n",
              "\n",
              "    .colab-df-convert:hover {\n",
              "      background-color: #E2EBFA;\n",
              "      box-shadow: 0px 1px 2px rgba(60, 64, 67, 0.3), 0px 1px 3px 1px rgba(60, 64, 67, 0.15);\n",
              "      fill: #174EA6;\n",
              "    }\n",
              "\n",
              "    .colab-df-buttons div {\n",
              "      margin-bottom: 4px;\n",
              "    }\n",
              "\n",
              "    [theme=dark] .colab-df-convert {\n",
              "      background-color: #3B4455;\n",
              "      fill: #D2E3FC;\n",
              "    }\n",
              "\n",
              "    [theme=dark] .colab-df-convert:hover {\n",
              "      background-color: #434B5C;\n",
              "      box-shadow: 0px 1px 3px 1px rgba(0, 0, 0, 0.15);\n",
              "      filter: drop-shadow(0px 1px 2px rgba(0, 0, 0, 0.3));\n",
              "      fill: #FFFFFF;\n",
              "    }\n",
              "  </style>\n",
              "\n",
              "    <script>\n",
              "      const buttonEl =\n",
              "        document.querySelector('#df-7c9b5df5-8c37-4ef6-bbf5-c335974d228d button.colab-df-convert');\n",
              "      buttonEl.style.display =\n",
              "        google.colab.kernel.accessAllowed ? 'block' : 'none';\n",
              "\n",
              "      async function convertToInteractive(key) {\n",
              "        const element = document.querySelector('#df-7c9b5df5-8c37-4ef6-bbf5-c335974d228d');\n",
              "        const dataTable =\n",
              "          await google.colab.kernel.invokeFunction('convertToInteractive',\n",
              "                                                    [key], {});\n",
              "        if (!dataTable) return;\n",
              "\n",
              "        const docLinkHtml = 'Like what you see? Visit the ' +\n",
              "          '<a target=\"_blank\" href=https://colab.research.google.com/notebooks/data_table.ipynb>data table notebook</a>'\n",
              "          + ' to learn more about interactive tables.';\n",
              "        element.innerHTML = '';\n",
              "        dataTable['output_type'] = 'display_data';\n",
              "        await google.colab.output.renderOutput(dataTable, element);\n",
              "        const docLink = document.createElement('div');\n",
              "        docLink.innerHTML = docLinkHtml;\n",
              "        element.appendChild(docLink);\n",
              "      }\n",
              "    </script>\n",
              "  </div>\n",
              "\n",
              "\n",
              "<div id=\"df-08ec5ece-385f-4cf6-9262-2a20ea9f460c\">\n",
              "  <button class=\"colab-df-quickchart\" onclick=\"quickchart('df-08ec5ece-385f-4cf6-9262-2a20ea9f460c')\"\n",
              "            title=\"Suggest charts\"\n",
              "            style=\"display:none;\">\n",
              "\n",
              "<svg xmlns=\"http://www.w3.org/2000/svg\" height=\"24px\"viewBox=\"0 0 24 24\"\n",
              "     width=\"24px\">\n",
              "    <g>\n",
              "        <path d=\"M19 3H5c-1.1 0-2 .9-2 2v14c0 1.1.9 2 2 2h14c1.1 0 2-.9 2-2V5c0-1.1-.9-2-2-2zM9 17H7v-7h2v7zm4 0h-2V7h2v10zm4 0h-2v-4h2v4z\"/>\n",
              "    </g>\n",
              "</svg>\n",
              "  </button>\n",
              "\n",
              "<style>\n",
              "  .colab-df-quickchart {\n",
              "      --bg-color: #E8F0FE;\n",
              "      --fill-color: #1967D2;\n",
              "      --hover-bg-color: #E2EBFA;\n",
              "      --hover-fill-color: #174EA6;\n",
              "      --disabled-fill-color: #AAA;\n",
              "      --disabled-bg-color: #DDD;\n",
              "  }\n",
              "\n",
              "  [theme=dark] .colab-df-quickchart {\n",
              "      --bg-color: #3B4455;\n",
              "      --fill-color: #D2E3FC;\n",
              "      --hover-bg-color: #434B5C;\n",
              "      --hover-fill-color: #FFFFFF;\n",
              "      --disabled-bg-color: #3B4455;\n",
              "      --disabled-fill-color: #666;\n",
              "  }\n",
              "\n",
              "  .colab-df-quickchart {\n",
              "    background-color: var(--bg-color);\n",
              "    border: none;\n",
              "    border-radius: 50%;\n",
              "    cursor: pointer;\n",
              "    display: none;\n",
              "    fill: var(--fill-color);\n",
              "    height: 32px;\n",
              "    padding: 0;\n",
              "    width: 32px;\n",
              "  }\n",
              "\n",
              "  .colab-df-quickchart:hover {\n",
              "    background-color: var(--hover-bg-color);\n",
              "    box-shadow: 0 1px 2px rgba(60, 64, 67, 0.3), 0 1px 3px 1px rgba(60, 64, 67, 0.15);\n",
              "    fill: var(--button-hover-fill-color);\n",
              "  }\n",
              "\n",
              "  .colab-df-quickchart-complete:disabled,\n",
              "  .colab-df-quickchart-complete:disabled:hover {\n",
              "    background-color: var(--disabled-bg-color);\n",
              "    fill: var(--disabled-fill-color);\n",
              "    box-shadow: none;\n",
              "  }\n",
              "\n",
              "  .colab-df-spinner {\n",
              "    border: 2px solid var(--fill-color);\n",
              "    border-color: transparent;\n",
              "    border-bottom-color: var(--fill-color);\n",
              "    animation:\n",
              "      spin 1s steps(1) infinite;\n",
              "  }\n",
              "\n",
              "  @keyframes spin {\n",
              "    0% {\n",
              "      border-color: transparent;\n",
              "      border-bottom-color: var(--fill-color);\n",
              "      border-left-color: var(--fill-color);\n",
              "    }\n",
              "    20% {\n",
              "      border-color: transparent;\n",
              "      border-left-color: var(--fill-color);\n",
              "      border-top-color: var(--fill-color);\n",
              "    }\n",
              "    30% {\n",
              "      border-color: transparent;\n",
              "      border-left-color: var(--fill-color);\n",
              "      border-top-color: var(--fill-color);\n",
              "      border-right-color: var(--fill-color);\n",
              "    }\n",
              "    40% {\n",
              "      border-color: transparent;\n",
              "      border-right-color: var(--fill-color);\n",
              "      border-top-color: var(--fill-color);\n",
              "    }\n",
              "    60% {\n",
              "      border-color: transparent;\n",
              "      border-right-color: var(--fill-color);\n",
              "    }\n",
              "    80% {\n",
              "      border-color: transparent;\n",
              "      border-right-color: var(--fill-color);\n",
              "      border-bottom-color: var(--fill-color);\n",
              "    }\n",
              "    90% {\n",
              "      border-color: transparent;\n",
              "      border-bottom-color: var(--fill-color);\n",
              "    }\n",
              "  }\n",
              "</style>\n",
              "\n",
              "  <script>\n",
              "    async function quickchart(key) {\n",
              "      const quickchartButtonEl =\n",
              "        document.querySelector('#' + key + ' button');\n",
              "      quickchartButtonEl.disabled = true;  // To prevent multiple clicks.\n",
              "      quickchartButtonEl.classList.add('colab-df-spinner');\n",
              "      try {\n",
              "        const charts = await google.colab.kernel.invokeFunction(\n",
              "            'suggestCharts', [key], {});\n",
              "      } catch (error) {\n",
              "        console.error('Error during call to suggestCharts:', error);\n",
              "      }\n",
              "      quickchartButtonEl.classList.remove('colab-df-spinner');\n",
              "      quickchartButtonEl.classList.add('colab-df-quickchart-complete');\n",
              "    }\n",
              "    (() => {\n",
              "      let quickchartButtonEl =\n",
              "        document.querySelector('#df-08ec5ece-385f-4cf6-9262-2a20ea9f460c button');\n",
              "      quickchartButtonEl.style.display =\n",
              "        google.colab.kernel.accessAllowed ? 'block' : 'none';\n",
              "    })();\n",
              "  </script>\n",
              "</div>\n",
              "    </div>\n",
              "  </div>\n"
            ],
            "application/vnd.google.colaboratory.intrinsic+json": {
              "type": "dataframe",
              "summary": "{\n  \"name\": \"df\",\n  \"rows\": 5,\n  \"fields\": [\n    {\n      \"column\": \"summary\",\n      \"properties\": {\n        \"dtype\": \"string\",\n        \"num_unique_values\": 5,\n        \"samples\": [\n          \"mean\",\n          \"max\",\n          \"stddev\"\n        ],\n        \"semantic_type\": \"\",\n        \"description\": \"\"\n      }\n    },\n    {\n      \"column\": \"PhysicalHealthDays\",\n      \"properties\": {\n        \"dtype\": \"string\",\n        \"num_unique_values\": 5,\n        \"samples\": [\n          \"3.84445\",\n          \"30\",\n          \"8.156780463159977\"\n        ],\n        \"semantic_type\": \"\",\n        \"description\": \"\"\n      }\n    },\n    {\n      \"column\": \"MentalHealthDays\",\n      \"properties\": {\n        \"dtype\": \"string\",\n        \"num_unique_values\": 5,\n        \"samples\": [\n          \"3.9705\",\n          \"30\",\n          \"7.947783271546439\"\n        ],\n        \"semantic_type\": \"\",\n        \"description\": \"\"\n      }\n    },\n    {\n      \"column\": \"SleepHours\",\n      \"properties\": {\n        \"dtype\": \"string\",\n        \"num_unique_values\": 5,\n        \"samples\": [\n          \"7.0078\",\n          \"11\",\n          \"1.2428104338330783\"\n        ],\n        \"semantic_type\": \"\",\n        \"description\": \"\"\n      }\n    },\n    {\n      \"column\": \"HeightInMeters\",\n      \"properties\": {\n        \"dtype\": \"string\",\n        \"num_unique_values\": 5,\n        \"samples\": [\n          \"1.7030132499999917\",\n          \"1.98\",\n          \"0.10325061424355336\"\n        ],\n        \"semantic_type\": \"\",\n        \"description\": \"\"\n      }\n    },\n    {\n      \"column\": \"WeightInKilograms\",\n      \"properties\": {\n        \"dtype\": \"string\",\n        \"num_unique_values\": 5,\n        \"samples\": [\n          \"80.8777907500013\",\n          \"135.62\",\n          \"17.76090359889184\"\n        ],\n        \"semantic_type\": \"\",\n        \"description\": \"\"\n      }\n    },\n    {\n      \"column\": \"BMI\",\n      \"properties\": {\n        \"dtype\": \"string\",\n        \"num_unique_values\": 5,\n        \"samples\": [\n          \"27.818363632617373\",\n          \"57.91637812\",\n          \"5.318102610734452\"\n        ],\n        \"semantic_type\": \"\",\n        \"description\": \"\"\n      }\n    }\n  ]\n}"
            }
          },
          "metadata": {},
          "execution_count": 11
        }
      ]
    },
    {
      "cell_type": "markdown",
      "source": [
        "Check correlation between numerical variables"
      ],
      "metadata": {
        "id": "WF_LdHA2sQw6"
      }
    },
    {
      "cell_type": "code",
      "source": [
        "\n",
        "\n",
        "#convert numeric_cols to a dataFrame\n",
        "numeric_data = df.select(numeric_cols).toPandas()\n",
        "#visualise the correlations between the numeric variables using a heatmap\n",
        "fig = plt.figure(figsize = (15,10))\n",
        "sns.heatmap(numeric_data.corr(method = 'pearson'), annot = True, cmap = \"Blues\")\n",
        "plt.title(\"Correlation Heatmap\")\n",
        "\n"
      ],
      "metadata": {
        "id": "LA4I7lE2Ph3_",
        "colab": {
          "base_uri": "https://localhost:8080/",
          "height": 870
        },
        "outputId": "8723a27d-f5cf-4b58-e408-2b85175255a2"
      },
      "execution_count": 12,
      "outputs": [
        {
          "output_type": "execute_result",
          "data": {
            "text/plain": [
              "Text(0.5, 1.0, 'Correlation Heatmap')"
            ]
          },
          "metadata": {},
          "execution_count": 12
        },
        {
          "output_type": "display_data",
          "data": {
            "text/plain": [
              "<Figure size 1500x1000 with 2 Axes>"
            ],
            "image/png": "[encoded data removed]"
          },
          "metadata": {}
        }
      ]
    },
    {
      "cell_type": "markdown",
      "source": [
        "WeightInKilograms shows a high positive correlation of 0.83 with BMI and a positive correlation of 0.51 with HeightInMeters. Therefore, considering BMI is calculated using both Height and Weight, these two variables will be dropped."
      ],
      "metadata": {
        "id": "5tyMINZSsdF1"
      }
    },
    {
      "cell_type": "code",
      "source": [
        "#drop HeightInMeters and WeightInKilograms\n",
        "df = df.drop(\"HeightInMeters\",\"WeightInKilograms\")\n",
        "\n",
        "#print df\n",
        "df.printSchema()"
      ],
      "metadata": {
        "id": "dJSPWrnAOxpI",
        "colab": {
          "base_uri": "https://localhost:8080/"
        },
        "outputId": "8890493e-33cf-4d1d-97c1-a97dbd100ffa"
      },
      "execution_count": 13,
      "outputs": [
        {
          "output_type": "stream",
          "name": "stdout",
          "text": [
            "root\n",
            " |-- Sex: string (nullable = true)\n",
            " |-- GeneralHealth: string (nullable = true)\n",
            " |-- PhysicalHealthDays: integer (nullable = true)\n",
            " |-- MentalHealthDays: integer (nullable = true)\n",
            " |-- LastCheckupTime: string (nullable = true)\n",
            " |-- PhysicalActivities: string (nullable = true)\n",
            " |-- SleepHours: integer (nullable = true)\n",
            " |-- RemovedTeeth: string (nullable = true)\n",
            " |-- HadHeartAttack: string (nullable = true)\n",
            " |-- HadAngina: string (nullable = true)\n",
            " |-- HadStroke: string (nullable = true)\n",
            " |-- HadAsthma: string (nullable = true)\n",
            " |-- HadSkinCancer: string (nullable = true)\n",
            " |-- HadCOPD: string (nullable = true)\n",
            " |-- HadDepressiveDisorder: string (nullable = true)\n",
            " |-- HadKidneyDisease: string (nullable = true)\n",
            " |-- HadArthritis: string (nullable = true)\n",
            " |-- HadDiabetes: string (nullable = true)\n",
            " |-- DeafOrHardOfHearing: string (nullable = true)\n",
            " |-- BlindOrVisionDifficulty: string (nullable = true)\n",
            " |-- DifficultyConcentrating: string (nullable = true)\n",
            " |-- DifficultyWalking: string (nullable = true)\n",
            " |-- DifficultyDressingBathing: string (nullable = true)\n",
            " |-- DifficultyErrands: string (nullable = true)\n",
            " |-- SmokerStatus: string (nullable = true)\n",
            " |-- ECigaretteUsage: string (nullable = true)\n",
            " |-- ChestScan: string (nullable = true)\n",
            " |-- RaceEthnicityCategory: string (nullable = true)\n",
            " |-- AgeCategory: string (nullable = true)\n",
            " |-- BMI: double (nullable = true)\n",
            " |-- AlcoholDrinkers: string (nullable = true)\n",
            " |-- HIVTesting: string (nullable = true)\n",
            " |-- FluVaxLast12: string (nullable = true)\n",
            " |-- PneumoVaxEver: string (nullable = true)\n",
            " |-- TetanusLast10Tdap: string (nullable = true)\n",
            " |-- HighRiskLastYear: string (nullable = true)\n",
            " |-- CovidPos: string (nullable = true)\n",
            "\n"
          ]
        }
      ]
    },
    {
      "cell_type": "markdown",
      "source": [
        "Convert categorical columns using one-hot encoding"
      ],
      "metadata": {
        "id": "qg_XebltPepE"
      }
    },
    {
      "cell_type": "code",
      "source": [
        "# select the categorical columns\n",
        "categoricalColumns = [\"CovidPos\", \"HighRiskLastYear\", \"TetanusLast10Tdap\", \"PneumoVaxEver\", \"FluVaxLast12\",\"HIVTesting\",\"AlcoholDrinkers\",\"AgeCategory\",\"RaceEthnicityCategory\",\"ChestScan\",\"ECigaretteUsage\",\n",
        "                                 \"SmokerStatus\",\"DifficultyErrands\",\"DifficultyDressingBathing\",\"DifficultyWalking\",\"DifficultyConcentrating\",\"BlindOrVisionDifficulty\",\"DeafOrHardOfHearing\",\"HadDiabetes\",\n",
        "                                 \"HadArthritis\",\"HadKidneyDisease\",\"HadDepressiveDisorder\",\"HadCOPD\",\"HadSkinCancer\",\"HadAsthma\",\"HadStroke\",\"HadAngina\",\"RemovedTeeth\",\"PhysicalActivities\",\n",
        "                                 \"LastCheckupTime\",\"GeneralHealth\",\"Sex\"]\n",
        "\n",
        "# create empty list to store results of StringIndexer and OneHotEncoder\n",
        "stages = []\n"
      ],
      "metadata": {
        "id": "547hSc0qPmi1"
      },
      "execution_count": 14,
      "outputs": []
    },
    {
      "cell_type": "code",
      "source": [
        "# for loop to index each categorical column using StringIndexer function.\n",
        "#OneHotEncoder function is used to convert indexed categorical variables\n",
        "for categoricalCol in categoricalColumns:\n",
        "    stringIndexer = StringIndexer(inputCol = categoricalCol, outputCol = categoricalCol + 'Index')\n",
        "    encoder = OneHotEncoder(inputCols=[stringIndexer.getOutputCol()], outputCols=[categoricalCol + \"classVec\"])\n",
        "    stages = stages + [stringIndexer, encoder]"
      ],
      "metadata": {
        "id": "Jn2ZF6onYFAs"
      },
      "execution_count": 15,
      "outputs": []
    },
    {
      "cell_type": "code",
      "source": [
        "# encode labels to label indices\n",
        "label_stringIdx = StringIndexer(inputCol = \"HadHeartAttack\", outputCol = 'label')\n",
        "stages = stages + [label_stringIdx]\n"
      ],
      "metadata": {
        "id": "EyybieuCYJtE"
      },
      "execution_count": 16,
      "outputs": []
    },
    {
      "cell_type": "code",
      "source": [
        "# VectorAssembler to combine all columns into a single vector column\n",
        "numericCols = [\"PhysicalHealthDays\", \"MentalHealthDays\", \"SleepHours\", \"BMI\"]\n",
        "assemblerInputs = [c + \"classVec\" for c in categoricalColumns] + numericCols\n",
        "assembler = VectorAssembler(inputCols=assemblerInputs, outputCol = \"features\")\n",
        "stages = stages + [assembler]\n"
      ],
      "metadata": {
        "id": "JuVuhxIAYMqx"
      },
      "execution_count": 17,
      "outputs": []
    },
    {
      "cell_type": "markdown",
      "source": [
        "## PySpark and Machine Learning(Random Forest)"
      ],
      "metadata": {
        "id": "Z3hicUIqSstO"
      }
    },
    {
      "cell_type": "code",
      "source": [
        "\n",
        "cols = df.columns\n",
        "# steps to create the ML pipeline\n",
        "pipeline = Pipeline(stages = stages)\n",
        "pipelineModel = pipeline.fit(df)\n",
        "df = pipelineModel.transform(df)"
      ],
      "metadata": {
        "id": "Wb9EoVncStS-"
      },
      "execution_count": 18,
      "outputs": []
    },
    {
      "cell_type": "code",
      "source": [
        "selectedCols = ['label', 'features'] + cols\n",
        "df = df.select(selectedCols)\n",
        "df.printSchema()"
      ],
      "metadata": {
        "colab": {
          "base_uri": "https://localhost:8080/"
        },
        "id": "zbqbSPcTkqMX",
        "outputId": "2142ac84-86cf-4949-b8e6-144fe16be479"
      },
      "execution_count": 19,
      "outputs": [
        {
          "output_type": "stream",
          "name": "stdout",
          "text": [
            "root\n",
            " |-- label: double (nullable = false)\n",
            " |-- features: vector (nullable = true)\n",
            " |-- Sex: string (nullable = true)\n",
            " |-- GeneralHealth: string (nullable = true)\n",
            " |-- PhysicalHealthDays: integer (nullable = true)\n",
            " |-- MentalHealthDays: integer (nullable = true)\n",
            " |-- LastCheckupTime: string (nullable = true)\n",
            " |-- PhysicalActivities: string (nullable = true)\n",
            " |-- SleepHours: integer (nullable = true)\n",
            " |-- RemovedTeeth: string (nullable = true)\n",
            " |-- HadHeartAttack: string (nullable = true)\n",
            " |-- HadAngina: string (nullable = true)\n",
            " |-- HadStroke: string (nullable = true)\n",
            " |-- HadAsthma: string (nullable = true)\n",
            " |-- HadSkinCancer: string (nullable = true)\n",
            " |-- HadCOPD: string (nullable = true)\n",
            " |-- HadDepressiveDisorder: string (nullable = true)\n",
            " |-- HadKidneyDisease: string (nullable = true)\n",
            " |-- HadArthritis: string (nullable = true)\n",
            " |-- HadDiabetes: string (nullable = true)\n",
            " |-- DeafOrHardOfHearing: string (nullable = true)\n",
            " |-- BlindOrVisionDifficulty: string (nullable = true)\n",
            " |-- DifficultyConcentrating: string (nullable = true)\n",
            " |-- DifficultyWalking: string (nullable = true)\n",
            " |-- DifficultyDressingBathing: string (nullable = true)\n",
            " |-- DifficultyErrands: string (nullable = true)\n",
            " |-- SmokerStatus: string (nullable = true)\n",
            " |-- ECigaretteUsage: string (nullable = true)\n",
            " |-- ChestScan: string (nullable = true)\n",
            " |-- RaceEthnicityCategory: string (nullable = true)\n",
            " |-- AgeCategory: string (nullable = true)\n",
            " |-- BMI: double (nullable = true)\n",
            " |-- AlcoholDrinkers: string (nullable = true)\n",
            " |-- HIVTesting: string (nullable = true)\n",
            " |-- FluVaxLast12: string (nullable = true)\n",
            " |-- PneumoVaxEver: string (nullable = true)\n",
            " |-- TetanusLast10Tdap: string (nullable = true)\n",
            " |-- HighRiskLastYear: string (nullable = true)\n",
            " |-- CovidPos: string (nullable = true)\n",
            "\n"
          ]
        }
      ]
    },
    {
      "cell_type": "code",
      "source": [
        "#view the dataframe\n",
        "pd.DataFrame(df.take(5), columns = df.columns)\n"
      ],
      "metadata": {
        "colab": {
          "base_uri": "https://localhost:8080/",
          "height": 603
        },
        "id": "cHUI5NudlMzw",
        "outputId": "6be5a103-3a89-4615-d33f-02e79a4dccab"
      },
      "execution_count": 20,
      "outputs": [
        {
          "output_type": "execute_result",
          "data": {
            "text/plain": [
              "   label                                           features     Sex  \\\n",
              "0    0.0  (1.0, 1.0, 1.0, 0.0, 0.0, 0.0, 0.0, 1.0, 1.0, ...  Female   \n",
              "1    0.0  (1.0, 1.0, 0.0, 0.0, 1.0, 0.0, 1.0, 1.0, 0.0, ...  Female   \n",
              "2    0.0  (1.0, 1.0, 0.0, 0.0, 1.0, 0.0, 0.0, 1.0, 1.0, ...  Female   \n",
              "3    0.0  (1.0, 1.0, 0.0, 1.0, 0.0, 0.0, 0.0, 1.0, 1.0, ...    Male   \n",
              "4    0.0  (1.0, 1.0, 0.0, 0.0, 1.0, 0.0, 0.0, 0.0, 1.0, ...    Male   \n",
              "\n",
              "  GeneralHealth  PhysicalHealthDays  MentalHealthDays      LastCheckupTime  \\\n",
              "0          Fair                   4                 0     Within past year   \n",
              "1          Good                  15                30     Within past year   \n",
              "2     Very good                   0                 1  Within past 2 years   \n",
              "3          Good                   0                 0     Within past year   \n",
              "4     Excellent                   1                 0     Within past year   \n",
              "\n",
              "  PhysicalActivities  SleepHours  RemovedTeeth  ... RaceEthnicityCategory  \\\n",
              "0                Yes           7          Some  ...                 White   \n",
              "1                 No           6          Some  ...                 White   \n",
              "2                Yes           8  None of them  ...                 White   \n",
              "3                 No           7  None of them  ...                 Other   \n",
              "4                Yes           7  None of them  ...                 White   \n",
              "\n",
              "          AgeCategory        BMI AlcoholDrinkers HIVTesting FluVaxLast12  \\\n",
              "0            Over-60s  26.630000              No         No          Yes   \n",
              "1  Middle Aged Adults  30.321396             Yes        Yes          Yes   \n",
              "2            Over-60s  32.280000             Yes         No          Yes   \n",
              "3        Young Adults  31.010000              No         No          Yes   \n",
              "4        Young Adults  22.890000              No         No           No   \n",
              "\n",
              "  PneumoVaxEver            TetanusLast10Tdap HighRiskLastYear CovidPos  \n",
              "0           Yes                           No               No       No  \n",
              "1            No           Yes, received Tdap               No       No  \n",
              "2           Yes           Yes, received Tdap               No       No  \n",
              "3           Yes  Yes, but not sure what type               No       No  \n",
              "4           Yes           Yes, received Tdap               No       No  \n",
              "\n",
              "[5 rows x 39 columns]"
            ],
            "text/html": [
              "\n",
              "  <div id=\"df-df6234aa-0fef-49d3-aa5c-91ce24e268ab\" class=\"colab-df-container\">\n",
              "    <div>\n",
              "<style scoped>\n",
              "    .dataframe tbody tr th:only-of-type {\n",
              "        vertical-align: middle;\n",
              "    }\n",
              "\n",
              "    .dataframe tbody tr th {\n",
              "        vertical-align: top;\n",
              "    }\n",
              "\n",
              "    .dataframe thead th {\n",
              "        text-align: right;\n",
              "    }\n",
              "</style>\n",
              "<table border=\"1\" class=\"dataframe\">\n",
              "  <thead>\n",
              "    <tr style=\"text-align: right;\">\n",
              "      <th></th>\n",
              "      <th>label</th>\n",
              "      <th>features</th>\n",
              "      <th>Sex</th>\n",
              "      <th>GeneralHealth</th>\n",
              "      <th>PhysicalHealthDays</th>\n",
              "      <th>MentalHealthDays</th>\n",
              "      <th>LastCheckupTime</th>\n",
              "      <th>PhysicalActivities</th>\n",
              "      <th>SleepHours</th>\n",
              "      <th>RemovedTeeth</th>\n",
              "      <th>...</th>\n",
              "      <th>RaceEthnicityCategory</th>\n",
              "      <th>AgeCategory</th>\n",
              "      <th>BMI</th>\n",
              "      <th>AlcoholDrinkers</th>\n",
              "      <th>HIVTesting</th>\n",
              "      <th>FluVaxLast12</th>\n",
              "      <th>PneumoVaxEver</th>\n",
              "      <th>TetanusLast10Tdap</th>\n",
              "      <th>HighRiskLastYear</th>\n",
              "      <th>CovidPos</th>\n",
              "    </tr>\n",
              "  </thead>\n",
              "  <tbody>\n",
              "    <tr>\n",
              "      <th>0</th>\n",
              "      <td>0.0</td>\n",
              "      <td>(1.0, 1.0, 1.0, 0.0, 0.0, 0.0, 0.0, 1.0, 1.0, ...</td>\n",
              "      <td>Female</td>\n",
              "      <td>Fair</td>\n",
              "      <td>4</td>\n",
              "      <td>0</td>\n",
              "      <td>Within past year</td>\n",
              "      <td>Yes</td>\n",
              "      <td>7</td>\n",
              "      <td>Some</td>\n",
              "      <td>...</td>\n",
              "      <td>White</td>\n",
              "      <td>Over-60s</td>\n",
              "      <td>26.630000</td>\n",
              "      <td>No</td>\n",
              "      <td>No</td>\n",
              "      <td>Yes</td>\n",
              "      <td>Yes</td>\n",
              "      <td>No</td>\n",
              "      <td>No</td>\n",
              "      <td>No</td>\n",
              "    </tr>\n",
              "    <tr>\n",
              "      <th>1</th>\n",
              "      <td>0.0</td>\n",
              "      <td>(1.0, 1.0, 0.0, 0.0, 1.0, 0.0, 1.0, 1.0, 0.0, ...</td>\n",
              "      <td>Female</td>\n",
              "      <td>Good</td>\n",
              "      <td>15</td>\n",
              "      <td>30</td>\n",
              "      <td>Within past year</td>\n",
              "      <td>No</td>\n",
              "      <td>6</td>\n",
              "      <td>Some</td>\n",
              "      <td>...</td>\n",
              "      <td>White</td>\n",
              "      <td>Middle Aged Adults</td>\n",
              "      <td>30.321396</td>\n",
              "      <td>Yes</td>\n",
              "      <td>Yes</td>\n",
              "      <td>Yes</td>\n",
              "      <td>No</td>\n",
              "      <td>Yes, received Tdap</td>\n",
              "      <td>No</td>\n",
              "      <td>No</td>\n",
              "    </tr>\n",
              "    <tr>\n",
              "      <th>2</th>\n",
              "      <td>0.0</td>\n",
              "      <td>(1.0, 1.0, 0.0, 0.0, 1.0, 0.0, 0.0, 1.0, 1.0, ...</td>\n",
              "      <td>Female</td>\n",
              "      <td>Very good</td>\n",
              "      <td>0</td>\n",
              "      <td>1</td>\n",
              "      <td>Within past 2 years</td>\n",
              "      <td>Yes</td>\n",
              "      <td>8</td>\n",
              "      <td>None of them</td>\n",
              "      <td>...</td>\n",
              "      <td>White</td>\n",
              "      <td>Over-60s</td>\n",
              "      <td>32.280000</td>\n",
              "      <td>Yes</td>\n",
              "      <td>No</td>\n",
              "      <td>Yes</td>\n",
              "      <td>Yes</td>\n",
              "      <td>Yes, received Tdap</td>\n",
              "      <td>No</td>\n",
              "      <td>No</td>\n",
              "    </tr>\n",
              "    <tr>\n",
              "      <th>3</th>\n",
              "      <td>0.0</td>\n",
              "      <td>(1.0, 1.0, 0.0, 1.0, 0.0, 0.0, 0.0, 1.0, 1.0, ...</td>\n",
              "      <td>Male</td>\n",
              "      <td>Good</td>\n",
              "      <td>0</td>\n",
              "      <td>0</td>\n",
              "      <td>Within past year</td>\n",
              "      <td>No</td>\n",
              "      <td>7</td>\n",
              "      <td>None of them</td>\n",
              "      <td>...</td>\n",
              "      <td>Other</td>\n",
              "      <td>Young Adults</td>\n",
              "      <td>31.010000</td>\n",
              "      <td>No</td>\n",
              "      <td>No</td>\n",
              "      <td>Yes</td>\n",
              "      <td>Yes</td>\n",
              "      <td>Yes, but not sure what type</td>\n",
              "      <td>No</td>\n",
              "      <td>No</td>\n",
              "    </tr>\n",
              "    <tr>\n",
              "      <th>4</th>\n",
              "      <td>0.0</td>\n",
              "      <td>(1.0, 1.0, 0.0, 0.0, 1.0, 0.0, 0.0, 0.0, 1.0, ...</td>\n",
              "      <td>Male</td>\n",
              "      <td>Excellent</td>\n",
              "      <td>1</td>\n",
              "      <td>0</td>\n",
              "      <td>Within past year</td>\n",
              "      <td>Yes</td>\n",
              "      <td>7</td>\n",
              "      <td>None of them</td>\n",
              "      <td>...</td>\n",
              "      <td>White</td>\n",
              "      <td>Young Adults</td>\n",
              "      <td>22.890000</td>\n",
              "      <td>No</td>\n",
              "      <td>No</td>\n",
              "      <td>No</td>\n",
              "      <td>Yes</td>\n",
              "      <td>Yes, received Tdap</td>\n",
              "      <td>No</td>\n",
              "      <td>No</td>\n",
              "    </tr>\n",
              "  </tbody>\n",
              "</table>\n",
              "<p>5 rows × 39 columns</p>\n",
              "</div>\n",
              "    <div class=\"colab-df-buttons\">\n",
              "\n",
              "  <div class=\"colab-df-container\">\n",
              "    <button class=\"colab-df-convert\" onclick=\"convertToInteractive('df-df6234aa-0fef-49d3-aa5c-91ce24e268ab')\"\n",
              "            title=\"Convert this dataframe to an interactive table.\"\n",
              "            style=\"display:none;\">\n",
              "\n",
              "  <svg xmlns=\"http://www.w3.org/2000/svg\" height=\"24px\" viewBox=\"0 -960 960 960\">\n",
              "    <path d=\"M120-120v-720h720v720H120Zm60-500h600v-160H180v160Zm220 220h160v-160H400v160Zm0 220h160v-160H400v160ZM180-400h160v-160H180v160Zm440 0h160v-160H620v160ZM180-180h160v-160H180v160Zm440 0h160v-160H620v160Z\"/>\n",
              "  </svg>\n",
              "    </button>\n",
              "\n",
              "  <style>\n",
              "    .colab-df-container {\n",
              "      display:flex;\n",
              "      gap: 12px;\n",
              "    }\n",
              "\n",
              "    .colab-df-convert {\n",
              "      background-color: #E8F0FE;\n",
              "      border: none;\n",
              "      border-radius: 50%;\n",
              "      cursor: pointer;\n",
              "      display: none;\n",
              "      fill: #1967D2;\n",
              "      height: 32px;\n",
              "      padding: 0 0 0 0;\n",
              "      width: 32px;\n",
              "    }\n",
              "\n",
              "    .colab-df-convert:hover {\n",
              "      background-color: #E2EBFA;\n",
              "      box-shadow: 0px 1px 2px rgba(60, 64, 67, 0.3), 0px 1px 3px 1px rgba(60, 64, 67, 0.15);\n",
              "      fill: #174EA6;\n",
              "    }\n",
              "\n",
              "    .colab-df-buttons div {\n",
              "      margin-bottom: 4px;\n",
              "    }\n",
              "\n",
              "    [theme=dark] .colab-df-convert {\n",
              "      background-color: #3B4455;\n",
              "      fill: #D2E3FC;\n",
              "    }\n",
              "\n",
              "    [theme=dark] .colab-df-convert:hover {\n",
              "      background-color: #434B5C;\n",
              "      box-shadow: 0px 1px 3px 1px rgba(0, 0, 0, 0.15);\n",
              "      filter: drop-shadow(0px 1px 2px rgba(0, 0, 0, 0.3));\n",
              "      fill: #FFFFFF;\n",
              "    }\n",
              "  </style>\n",
              "\n",
              "    <script>\n",
              "      const buttonEl =\n",
              "        document.querySelector('#df-df6234aa-0fef-49d3-aa5c-91ce24e268ab button.colab-df-convert');\n",
              "      buttonEl.style.display =\n",
              "        google.colab.kernel.accessAllowed ? 'block' : 'none';\n",
              "\n",
              "      async function convertToInteractive(key) {\n",
              "        const element = document.querySelector('#df-df6234aa-0fef-49d3-aa5c-91ce24e268ab');\n",
              "        const dataTable =\n",
              "          await google.colab.kernel.invokeFunction('convertToInteractive',\n",
              "                                                    [key], {});\n",
              "        if (!dataTable) return;\n",
              "\n",
              "        const docLinkHtml = 'Like what you see? Visit the ' +\n",
              "          '<a target=\"_blank\" href=https://colab.research.google.com/notebooks/data_table.ipynb>data table notebook</a>'\n",
              "          + ' to learn more about interactive tables.';\n",
              "        element.innerHTML = '';\n",
              "        dataTable['output_type'] = 'display_data';\n",
              "        await google.colab.output.renderOutput(dataTable, element);\n",
              "        const docLink = document.createElement('div');\n",
              "        docLink.innerHTML = docLinkHtml;\n",
              "        element.appendChild(docLink);\n",
              "      }\n",
              "    </script>\n",
              "  </div>\n",
              "\n",
              "\n",
              "<div id=\"df-9b9b7282-3ed7-4749-9bb3-ab0fc7f7c96b\">\n",
              "  <button class=\"colab-df-quickchart\" onclick=\"quickchart('df-9b9b7282-3ed7-4749-9bb3-ab0fc7f7c96b')\"\n",
              "            title=\"Suggest charts\"\n",
              "            style=\"display:none;\">\n",
              "\n",
              "<svg xmlns=\"http://www.w3.org/2000/svg\" height=\"24px\"viewBox=\"0 0 24 24\"\n",
              "     width=\"24px\">\n",
              "    <g>\n",
              "        <path d=\"M19 3H5c-1.1 0-2 .9-2 2v14c0 1.1.9 2 2 2h14c1.1 0 2-.9 2-2V5c0-1.1-.9-2-2-2zM9 17H7v-7h2v7zm4 0h-2V7h2v10zm4 0h-2v-4h2v4z\"/>\n",
              "    </g>\n",
              "</svg>\n",
              "  </button>\n",
              "\n",
              "<style>\n",
              "  .colab-df-quickchart {\n",
              "      --bg-color: #E8F0FE;\n",
              "      --fill-color: #1967D2;\n",
              "      --hover-bg-color: #E2EBFA;\n",
              "      --hover-fill-color: #174EA6;\n",
              "      --disabled-fill-color: #AAA;\n",
              "      --disabled-bg-color: #DDD;\n",
              "  }\n",
              "\n",
              "  [theme=dark] .colab-df-quickchart {\n",
              "      --bg-color: #3B4455;\n",
              "      --fill-color: #D2E3FC;\n",
              "      --hover-bg-color: #434B5C;\n",
              "      --hover-fill-color: #FFFFFF;\n",
              "      --disabled-bg-color: #3B4455;\n",
              "      --disabled-fill-color: #666;\n",
              "  }\n",
              "\n",
              "  .colab-df-quickchart {\n",
              "    background-color: var(--bg-color);\n",
              "    border: none;\n",
              "    border-radius: 50%;\n",
              "    cursor: pointer;\n",
              "    display: none;\n",
              "    fill: var(--fill-color);\n",
              "    height: 32px;\n",
              "    padding: 0;\n",
              "    width: 32px;\n",
              "  }\n",
              "\n",
              "  .colab-df-quickchart:hover {\n",
              "    background-color: var(--hover-bg-color);\n",
              "    box-shadow: 0 1px 2px rgba(60, 64, 67, 0.3), 0 1px 3px 1px rgba(60, 64, 67, 0.15);\n",
              "    fill: var(--button-hover-fill-color);\n",
              "  }\n",
              "\n",
              "  .colab-df-quickchart-complete:disabled,\n",
              "  .colab-df-quickchart-complete:disabled:hover {\n",
              "    background-color: var(--disabled-bg-color);\n",
              "    fill: var(--disabled-fill-color);\n",
              "    box-shadow: none;\n",
              "  }\n",
              "\n",
              "  .colab-df-spinner {\n",
              "    border: 2px solid var(--fill-color);\n",
              "    border-color: transparent;\n",
              "    border-bottom-color: var(--fill-color);\n",
              "    animation:\n",
              "      spin 1s steps(1) infinite;\n",
              "  }\n",
              "\n",
              "  @keyframes spin {\n",
              "    0% {\n",
              "      border-color: transparent;\n",
              "      border-bottom-color: var(--fill-color);\n",
              "      border-left-color: var(--fill-color);\n",
              "    }\n",
              "    20% {\n",
              "      border-color: transparent;\n",
              "      border-left-color: var(--fill-color);\n",
              "      border-top-color: var(--fill-color);\n",
              "    }\n",
              "    30% {\n",
              "      border-color: transparent;\n",
              "      border-left-color: var(--fill-color);\n",
              "      border-top-color: var(--fill-color);\n",
              "      border-right-color: var(--fill-color);\n",
              "    }\n",
              "    40% {\n",
              "      border-color: transparent;\n",
              "      border-right-color: var(--fill-color);\n",
              "      border-top-color: var(--fill-color);\n",
              "    }\n",
              "    60% {\n",
              "      border-color: transparent;\n",
              "      border-right-color: var(--fill-color);\n",
              "    }\n",
              "    80% {\n",
              "      border-color: transparent;\n",
              "      border-right-color: var(--fill-color);\n",
              "      border-bottom-color: var(--fill-color);\n",
              "    }\n",
              "    90% {\n",
              "      border-color: transparent;\n",
              "      border-bottom-color: var(--fill-color);\n",
              "    }\n",
              "  }\n",
              "</style>\n",
              "\n",
              "  <script>\n",
              "    async function quickchart(key) {\n",
              "      const quickchartButtonEl =\n",
              "        document.querySelector('#' + key + ' button');\n",
              "      quickchartButtonEl.disabled = true;  // To prevent multiple clicks.\n",
              "      quickchartButtonEl.classList.add('colab-df-spinner');\n",
              "      try {\n",
              "        const charts = await google.colab.kernel.invokeFunction(\n",
              "            'suggestCharts', [key], {});\n",
              "      } catch (error) {\n",
              "        console.error('Error during call to suggestCharts:', error);\n",
              "      }\n",
              "      quickchartButtonEl.classList.remove('colab-df-spinner');\n",
              "      quickchartButtonEl.classList.add('colab-df-quickchart-complete');\n",
              "    }\n",
              "    (() => {\n",
              "      let quickchartButtonEl =\n",
              "        document.querySelector('#df-9b9b7282-3ed7-4749-9bb3-ab0fc7f7c96b button');\n",
              "      quickchartButtonEl.style.display =\n",
              "        google.colab.kernel.accessAllowed ? 'block' : 'none';\n",
              "    })();\n",
              "  </script>\n",
              "</div>\n",
              "    </div>\n",
              "  </div>\n"
            ],
            "application/vnd.google.colaboratory.intrinsic+json": {
              "type": "dataframe"
            }
          },
          "metadata": {},
          "execution_count": 20
        }
      ]
    },
    {
      "cell_type": "markdown",
      "source": [
        "Train/Test Split"
      ],
      "metadata": {
        "id": "GD7u35dS9mt8"
      }
    },
    {
      "cell_type": "code",
      "source": [
        "train, test = df.randomSplit([0.7, 0.3], seed = 123)\n",
        "print(\"Training Dataset Count: \" + str(train.count()))\n",
        "print(\"Test Dataset Count: \" + str(test.count()))\n"
      ],
      "metadata": {
        "colab": {
          "base_uri": "https://localhost:8080/"
        },
        "id": "7rQRkUJflALZ",
        "outputId": "7e3bbda2-bfe2-41ca-93e5-66dcc5606b90"
      },
      "execution_count": 21,
      "outputs": [
        {
          "output_type": "stream",
          "name": "stdout",
          "text": [
            "Training Dataset Count: 27912\n",
            "Test Dataset Count: 12088\n"
          ]
        }
      ]
    },
    {
      "cell_type": "code",
      "source": [
        "from pyspark.ml.classification import DecisionTreeClassifier\n",
        "\n",
        "dt = DecisionTreeClassifier(featuresCol = 'features', labelCol = 'label', maxDepth = 3)\n",
        "dtModel = dt.fit(train)\n",
        "predictions = dtModel.transform(test)\n",
        "\n",
        "# Create evaluator\n",
        "evaluator = BinaryClassificationEvaluator()\n",
        "\n",
        "# Evaluate model\n",
        "print(\"Test Area Under ROC: \" + str(evaluator.evaluate(predictions, {evaluator.metricName: \"areaUnderROC\"})))"
      ],
      "metadata": {
        "colab": {
          "base_uri": "https://localhost:8080/"
        },
        "id": "PQANROWOAA7a",
        "outputId": "b30c3e2a-a3f8-47c5-a6a8-15d7668c83e9"
      },
      "execution_count": 22,
      "outputs": [
        {
          "output_type": "stream",
          "name": "stdout",
          "text": [
            "Test Area Under ROC: 0.25557371131681544\n"
          ]
        }
      ]
    },
    {
      "cell_type": "markdown",
      "source": [
        "Evaluation of Decision Tree"
      ],
      "metadata": {
        "id": "t7iIaEw3A8IQ"
      }
    },
    {
      "cell_type": "code",
      "source": [
        "\n",
        "evaluator = MulticlassClassificationEvaluator(labelCol=\"label\", predictionCol=\"prediction\")\n",
        "accuracy = evaluator.evaluate(predictions)\n",
        "precision = evaluator.evaluate(predictions, {evaluator.metricName: \"weightedPrecision\"})\n",
        "recall = evaluator.evaluate(predictions, {evaluator.metricName: \"weightedRecall\"})\n",
        "f1_score = evaluator.evaluate(predictions, {evaluator.metricName: \"f1\"})\n",
        "print(\"Precision:\", precision)\n",
        "print(\"Recall:\", recall)\n",
        "print(\"F1-score:\", f1_score)\n",
        "print(\"Accuracy = %s\" % (accuracy))\n",
        "print(\"Test Error = %s\" % (1.0 - accuracy))"
      ],
      "metadata": {
        "colab": {
          "base_uri": "https://localhost:8080/"
        },
        "id": "dPikZ8hdAvoG",
        "outputId": "17082947-77b2-4e4e-e93c-f05cfb117aef"
      },
      "execution_count": 23,
      "outputs": [
        {
          "output_type": "stream",
          "name": "stdout",
          "text": [
            "Precision: 0.9302934148120794\n",
            "Recall: 0.9480476505625414\n",
            "F1-score: 0.9308236975613589\n",
            "Accuracy = 0.9308236975613589\n",
            "Test Error = 0.06917630243864115\n"
          ]
        }
      ]
    },
    {
      "cell_type": "markdown",
      "source": [
        "Confusion matrix for decision tree"
      ],
      "metadata": {
        "id": "cnRBgsv0A2eM"
      }
    },
    {
      "cell_type": "code",
      "source": [
        "# Calculate the elements of the confusion matrix\n",
        "TN = predictions.filter((predictions['prediction'] == 0) & (predictions['label'] == predictions['prediction'])).count()\n",
        "TP = predictions.filter((predictions['prediction'] == 1) & (predictions['label'] == predictions['prediction'])).count()\n",
        "FN = predictions.filter((predictions['prediction'] == 0) & (predictions['label'] != predictions['prediction'])).count()\n",
        "FP = predictions.filter((predictions['prediction'] == 1) & (predictions['label'] != predictions['prediction'])).count()\n",
        "\n",
        "# Print the elements of the confusion matrix\n",
        "print(\"True Negatives (TN):\", TN)\n",
        "print(\"True Positives (TP):\", TP)\n",
        "print(\"False Negatives (FN):\", FN)\n",
        "print(\"False Positives (FP):\", FP)"
      ],
      "metadata": {
        "colab": {
          "base_uri": "https://localhost:8080/"
        },
        "id": "zj24D2e1AzDj",
        "outputId": "c5e57bc6-6055-4003-83a6-a2441baa5b0c"
      },
      "execution_count": 24,
      "outputs": [
        {
          "output_type": "stream",
          "name": "stdout",
          "text": [
            "True Negatives (TN): 11396\n",
            "True Positives (TP): 64\n",
            "False Negatives (FN): 573\n",
            "False Positives (FP): 55\n"
          ]
        }
      ]
    },
    {
      "cell_type": "markdown",
      "source": [
        "Random Forest Model"
      ],
      "metadata": {
        "id": "pOl_6m5VlmHa"
      }
    },
    {
      "cell_type": "code",
      "source": [
        "\n",
        "rf = RandomForestClassifier(featuresCol = 'features', labelCol = 'label')\n",
        "\n",
        "# fitting the training data\n",
        "rfModel = rf.fit(train)\n",
        "\n",
        "#testing the performance using testing data\n",
        "predictions = rfModel.transform(test)\n",
        "\n",
        "# showing the first 10 labels and predictions\n",
        "predictions.select(\"label\", \"prediction\").show(10)\n",
        "\n",
        "# Create evaluator\n",
        "evaluator = BinaryClassificationEvaluator()\n",
        "\n",
        "# Evaluate model\n",
        "print(\"Test Area Under ROC: \" + str(evaluator.evaluate(predictions, {evaluator.metricName: \"areaUnderROC\"})))\n",
        "\n"
      ],
      "metadata": {
        "colab": {
          "base_uri": "https://localhost:8080/"
        },
        "id": "__Y8tMhdloTc",
        "outputId": "fa83d8ba-1808-4c7e-e83d-7728f54d6391"
      },
      "execution_count": 25,
      "outputs": [
        {
          "output_type": "stream",
          "name": "stdout",
          "text": [
            "+-----+----------+\n",
            "|label|prediction|\n",
            "+-----+----------+\n",
            "|  0.0|       0.0|\n",
            "|  0.0|       0.0|\n",
            "|  0.0|       0.0|\n",
            "|  0.0|       0.0|\n",
            "|  0.0|       0.0|\n",
            "|  0.0|       0.0|\n",
            "|  0.0|       0.0|\n",
            "|  0.0|       0.0|\n",
            "|  0.0|       0.0|\n",
            "|  0.0|       0.0|\n",
            "+-----+----------+\n",
            "only showing top 10 rows\n",
            "\n",
            "Test Area Under ROC: 0.8856047890630021\n"
          ]
        }
      ]
    },
    {
      "cell_type": "markdown",
      "source": [
        "Evaluation of random forest model"
      ],
      "metadata": {
        "id": "JogLKMOY_AGb"
      }
    },
    {
      "cell_type": "code",
      "source": [
        "\n",
        "evaluator = MulticlassClassificationEvaluator(labelCol=\"label\", predictionCol=\"prediction\")\n",
        "accuracy = evaluator.evaluate(predictions)\n",
        "precision = evaluator.evaluate(predictions, {evaluator.metricName: \"weightedPrecision\"})\n",
        "recall = evaluator.evaluate(predictions, {evaluator.metricName: \"weightedRecall\"})\n",
        "f1_score = evaluator.evaluate(predictions, {evaluator.metricName: \"f1\"})\n",
        "print(\"Precision:\", precision)\n",
        "print(\"Recall:\", recall)\n",
        "print(\"F1-score:\", f1_score)\n",
        "print(\"Accuracy = %s\" % (accuracy))\n",
        "print(\"Test Error = %s\" % (1.0 - accuracy))"
      ],
      "metadata": {
        "id": "VkjwdQqopMRz",
        "colab": {
          "base_uri": "https://localhost:8080/"
        },
        "outputId": "6d912168-c895-49db-a82b-414f89da02c7"
      },
      "execution_count": 26,
      "outputs": [
        {
          "output_type": "stream",
          "name": "stdout",
          "text": [
            "Precision: 0.8973831832062339\n",
            "Recall: 0.9473031105228326\n",
            "F1-score: 0.9216676934956418\n",
            "Accuracy = 0.9216676934956418\n",
            "Test Error = 0.07833230650435818\n"
          ]
        }
      ]
    },
    {
      "cell_type": "markdown",
      "source": [
        "Confusion matrix for random forest model"
      ],
      "metadata": {
        "id": "4RtSTGze_J8s"
      }
    },
    {
      "cell_type": "code",
      "source": [
        "# Calculate the elements of the confusion matrix\n",
        "TN = predictions.filter((predictions['prediction'] == 0) & (predictions['label'] == predictions['prediction'])).count()\n",
        "TP = predictions.filter((predictions['prediction'] == 1) & (predictions['label'] == predictions['prediction'])).count()\n",
        "FN = predictions.filter((predictions['prediction'] == 0) & (predictions['label'] != predictions['prediction'])).count()\n",
        "FP = predictions.filter((predictions['prediction'] == 1) & (predictions['label'] != predictions['prediction'])).count()\n",
        "\n",
        "# Print the elements of the confusion matrix\n",
        "print(\"True Negatives (TN):\", TN)\n",
        "print(\"True Positives (TP):\", TP)\n",
        "print(\"False Negatives (FN):\", FN)\n",
        "print(\"False Positives (FP):\", FP)\n",
        "\n"
      ],
      "metadata": {
        "id": "qLSiiddrGqaP",
        "colab": {
          "base_uri": "https://localhost:8080/"
        },
        "outputId": "2686da0c-1201-43f1-af49-d768a31052ac"
      },
      "execution_count": 27,
      "outputs": [
        {
          "output_type": "stream",
          "name": "stdout",
          "text": [
            "True Negatives (TN): 11451\n",
            "True Positives (TP): 0\n",
            "False Negatives (FN): 637\n",
            "False Positives (FP): 0\n"
          ]
        }
      ]
    },
    {
      "cell_type": "markdown",
      "source": [
        "Gradient-Boosted Tree"
      ],
      "metadata": {
        "id": "rOKxWKwM_cxQ"
      }
    },
    {
      "cell_type": "code",
      "source": [
        "from pyspark.ml.classification import GBTClassifier\n",
        "\n",
        "gbt = GBTClassifier(maxIter=10)\n",
        "gbtModel = gbt.fit(train)\n",
        "predictions = gbtModel.transform(test)"
      ],
      "metadata": {
        "id": "G-3KiLrU82qt"
      },
      "execution_count": 28,
      "outputs": []
    },
    {
      "cell_type": "markdown",
      "source": [
        "Evaluation for Gradient-Boosted Tree"
      ],
      "metadata": {
        "id": "dNpkEh_R_jsS"
      }
    },
    {
      "cell_type": "code",
      "source": [
        "\n",
        "# Create evaluator\n",
        "evaluator = BinaryClassificationEvaluator()\n",
        "\n",
        "# Evaluate model\n",
        "print(\"Test Area Under ROC: \" + str(evaluator.evaluate(predictions, {evaluator.metricName: \"areaUnderROC\"})))"
      ],
      "metadata": {
        "colab": {
          "base_uri": "https://localhost:8080/"
        },
        "id": "paHjFXCn9Igl",
        "outputId": "28f77c09-00be-46e5-8d10-ab3f8ec10d77"
      },
      "execution_count": 29,
      "outputs": [
        {
          "output_type": "stream",
          "name": "stdout",
          "text": [
            "Test Area Under ROC: 0.8926282993800491\n"
          ]
        }
      ]
    },
    {
      "cell_type": "code",
      "source": [
        "evaluator = MulticlassClassificationEvaluator(labelCol=\"label\", predictionCol=\"prediction\")\n",
        "accuracy = evaluator.evaluate(predictions)\n",
        "precision = evaluator.evaluate(predictions, {evaluator.metricName: \"weightedPrecision\"})\n",
        "recall = evaluator.evaluate(predictions, {evaluator.metricName: \"weightedRecall\"})\n",
        "f1_score = evaluator.evaluate(predictions, {evaluator.metricName: \"f1\"})\n",
        "print(\"Precision:\", precision)\n",
        "print(\"Recall:\", recall)\n",
        "print(\"F1-score:\", f1_score)\n",
        "print(\"Accuracy = %s\" % (accuracy))\n",
        "print(\"Test Error = %s\" % (1.0 - accuracy))"
      ],
      "metadata": {
        "colab": {
          "base_uri": "https://localhost:8080/"
        },
        "id": "EROnWBXuG6hF",
        "outputId": "9ffe5eec-b3e3-4839-c359-88143224ce7b"
      },
      "execution_count": 30,
      "outputs": [
        {
          "output_type": "stream",
          "name": "stdout",
          "text": [
            "Precision: 0.9371262985633343\n",
            "Recall: 0.9501158173395102\n",
            "F1-score: 0.9386769750323692\n",
            "Accuracy = 0.9386769750323692\n",
            "Test Error = 0.06132302496763076\n"
          ]
        }
      ]
    },
    {
      "cell_type": "markdown",
      "source": [
        "Confusion matrix for Gradient-Boosted Tree"
      ],
      "metadata": {
        "id": "A7xbbxuE_qav"
      }
    },
    {
      "cell_type": "code",
      "source": [
        "# Calculate the elements of the confusion matrix\n",
        "TN = predictions.filter((predictions['prediction'] == 0) & (predictions['label'] == predictions['prediction'])).count()\n",
        "TP = predictions.filter((predictions['prediction'] == 1) & (predictions['label'] == predictions['prediction'])).count()\n",
        "FN = predictions.filter((predictions['prediction'] == 0) & (predictions['label'] != predictions['prediction'])).count()\n",
        "FP = predictions.filter((predictions['prediction'] == 1) & (predictions['label'] != predictions['prediction'])).count()\n",
        "\n",
        "# Print the elements of the confusion matrix\n",
        "print(\"True Negatives (TN):\", TN)\n",
        "print(\"True Positives (TP):\", TP)\n",
        "print(\"False Negatives (FN):\", FN)\n",
        "print(\"False Positives (FP):\", FP)\n"
      ],
      "metadata": {
        "colab": {
          "base_uri": "https://localhost:8080/"
        },
        "id": "Dxflj9fO9lye",
        "outputId": "cba5675f-1ae8-4b01-9a62-80b0b774243a"
      },
      "execution_count": 31,
      "outputs": [
        {
          "output_type": "stream",
          "name": "stdout",
          "text": [
            "True Negatives (TN): 11355\n",
            "True Positives (TP): 130\n",
            "False Negatives (FN): 507\n",
            "False Positives (FP): 96\n"
          ]
        }
      ]
    },
    {
      "cell_type": "code",
      "source": [
        "from pyspark.ml.tuning import ParamGridBuilder, CrossValidator\n",
        "\n",
        "paramGrid = (ParamGridBuilder()\n",
        "             .addGrid(gbt.maxDepth, [10])\n",
        "             .addGrid(gbt.maxBins, [20, 60])\n",
        "             .addGrid(gbt.maxIter, [10, 20])\n",
        "             .build())\n",
        "\n",
        "cv = CrossValidator(estimator=gbt, estimatorParamMaps=paramGrid, evaluator=evaluator, numFolds=5)\n",
        "\n",
        "# Run cross validations\n",
        "cvModel = cv.fit(train)\n",
        "predictions = cvModel.transform(test)\n",
        "evaluator.evaluate(predictions)"
      ],
      "metadata": {
        "colab": {
          "base_uri": "https://localhost:8080/"
        },
        "id": "qguEftz-9eBb",
        "outputId": "a041b5c7-bc87-436d-d2ef-1b734a74ae52"
      },
      "execution_count": 32,
      "outputs": [
        {
          "output_type": "execute_result",
          "data": {
            "text/plain": [
              "0.9348492934515987"
            ]
          },
          "metadata": {},
          "execution_count": 32
        }
      ]
    },
    {
      "cell_type": "code",
      "source": [
        "evaluator = MulticlassClassificationEvaluator(labelCol=\"label\", predictionCol=\"prediction\")\n",
        "accuracy = evaluator.evaluate(predictions)\n",
        "precision = evaluator.evaluate(predictions, {evaluator.metricName: \"weightedPrecision\"})\n",
        "recall = evaluator.evaluate(predictions, {evaluator.metricName: \"weightedRecall\"})\n",
        "f1_score = evaluator.evaluate(predictions, {evaluator.metricName: \"f1\"})\n",
        "print(\"Precision:\", precision)\n",
        "print(\"Recall:\", recall)\n",
        "print(\"F1-score:\", f1_score)\n",
        "print(\"Accuracy = %s\" % (accuracy))\n",
        "print(\"Test Error = %s\" % (1.0 - accuracy))"
      ],
      "metadata": {
        "colab": {
          "base_uri": "https://localhost:8080/"
        },
        "id": "sIBqNM-VLcmY",
        "outputId": "e1ec142b-ef44-482f-8739-2f726068707a"
      },
      "execution_count": 33,
      "outputs": [
        {
          "output_type": "stream",
          "name": "stdout",
          "text": [
            "Precision: 0.9300632500010695\n",
            "Recall: 0.9430013236267373\n",
            "F1-score: 0.9348492934515987\n",
            "Accuracy = 0.9348492934515987\n",
            "Test Error = 0.06515070654840127\n"
          ]
        }
      ]
    }
  ]
}